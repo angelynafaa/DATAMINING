{
  "nbformat": 4,
  "nbformat_minor": 0,
  "metadata": {
    "colab": {
      "name": "Pattern_FPGrowth.ipynb",
      "provenance": [],
      "collapsed_sections": [],
      "include_colab_link": true
    },
    "kernelspec": {
      "name": "python3",
      "display_name": "Python 3"
    }
  },
  "cells": [
    {
      "cell_type": "markdown",
      "metadata": {
        "id": "view-in-github",
        "colab_type": "text"
      },
      "source": [
        "<a href=\"https://colab.research.google.com/github/angelynafaa/DATAMINING/blob/main/Pattern_FPGrowth.ipynb\" target=\"_parent\"><img src=\"https://colab.research.google.com/assets/colab-badge.svg\" alt=\"Open In Colab\"/></a>"
      ]
    },
    {
      "cell_type": "code",
      "metadata": {
        "id": "-W_ZhgyD66-K",
        "colab": {
          "resources": {
            "http://localhost:8080/nbextensions/google.colab/files.js": {
              "data": "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",
              "ok": true,
              "headers": [
                [
                  "content-type",
                  "application/javascript"
                ]
              ],
              "status": 200,
              "status_text": ""
            }
          },
          "base_uri": "https://localhost:8080/",
          "height": 73
        },
        "outputId": "04f94d43-8e3f-42ab-889c-a45ccd10600f"
      },
      "source": [
        "from google.colab import files\n",
        "upload = files.upload()"
      ],
      "execution_count": 6,
      "outputs": [
        {
          "output_type": "display_data",
          "data": {
            "text/html": [
              "\n",
              "     <input type=\"file\" id=\"files-47c3f65b-af47-4b06-9440-0c4808285757\" name=\"files[]\" multiple disabled\n",
              "        style=\"border:none\" />\n",
              "     <output id=\"result-47c3f65b-af47-4b06-9440-0c4808285757\">\n",
              "      Upload widget is only available when the cell has been executed in the\n",
              "      current browser session. Please rerun this cell to enable.\n",
              "      </output>\n",
              "      <script src=\"/nbextensions/google.colab/files.js\"></script> "
            ],
            "text/plain": [
              "<IPython.core.display.HTML object>"
            ]
          },
          "metadata": {
            "tags": []
          }
        },
        {
          "output_type": "stream",
          "text": [
            "Saving movie.csv to movie.csv\n"
          ],
          "name": "stdout"
        }
      ]
    },
    {
      "cell_type": "code",
      "metadata": {
        "id": "ub53PN7v7RqP"
      },
      "source": [
        "import pandas as pd\n",
        "import numpy as np\n",
        "import random"
      ],
      "execution_count": 7,
      "outputs": []
    },
    {
      "cell_type": "code",
      "metadata": {
        "id": "BtUbc5GL7Vr2"
      },
      "source": [
        "data=pd.read_csv('movie.csv')"
      ],
      "execution_count": 8,
      "outputs": []
    },
    {
      "cell_type": "code",
      "metadata": {
        "id": "UaG8_gHz9bvF",
        "colab": {
          "base_uri": "https://localhost:8080/",
          "height": 351
        },
        "outputId": "58fabf5e-8b0f-4641-9982-f96af62da5a4"
      },
      "source": [
        "data.head()"
      ],
      "execution_count": 9,
      "outputs": [
        {
          "output_type": "execute_result",
          "data": {
            "text/html": [
              "<div>\n",
              "<style scoped>\n",
              "    .dataframe tbody tr th:only-of-type {\n",
              "        vertical-align: middle;\n",
              "    }\n",
              "\n",
              "    .dataframe tbody tr th {\n",
              "        vertical-align: top;\n",
              "    }\n",
              "\n",
              "    .dataframe thead th {\n",
              "        text-align: right;\n",
              "    }\n",
              "</style>\n",
              "<table border=\"1\" class=\"dataframe\">\n",
              "  <thead>\n",
              "    <tr style=\"text-align: right;\">\n",
              "      <th></th>\n",
              "      <th>color</th>\n",
              "      <th>director_name</th>\n",
              "      <th>num_critic_for_reviews</th>\n",
              "      <th>duration</th>\n",
              "      <th>director_facebook_likes</th>\n",
              "      <th>actor_3_facebook_likes</th>\n",
              "      <th>actor_2_name</th>\n",
              "      <th>actor_1_facebook_likes</th>\n",
              "      <th>gross</th>\n",
              "      <th>genres</th>\n",
              "      <th>actor_1_name</th>\n",
              "      <th>movie_title</th>\n",
              "      <th>num_voted_users</th>\n",
              "      <th>cast_total_facebook_likes</th>\n",
              "      <th>actor_3_name</th>\n",
              "      <th>facenumber_in_poster</th>\n",
              "      <th>plot_keywords</th>\n",
              "      <th>movie_imdb_link</th>\n",
              "      <th>num_user_for_reviews</th>\n",
              "      <th>language</th>\n",
              "      <th>country</th>\n",
              "      <th>content_rating</th>\n",
              "      <th>budget</th>\n",
              "      <th>title_year</th>\n",
              "      <th>actor_2_facebook_likes</th>\n",
              "      <th>imdb_score</th>\n",
              "      <th>aspect_ratio</th>\n",
              "      <th>movie_facebook_likes</th>\n",
              "    </tr>\n",
              "  </thead>\n",
              "  <tbody>\n",
              "    <tr>\n",
              "      <th>0</th>\n",
              "      <td>Color</td>\n",
              "      <td>James Cameron</td>\n",
              "      <td>723.0</td>\n",
              "      <td>178.0</td>\n",
              "      <td>0.0</td>\n",
              "      <td>855.0</td>\n",
              "      <td>Joel David Moore</td>\n",
              "      <td>1000.0</td>\n",
              "      <td>760505847.0</td>\n",
              "      <td>Action|Adventure|Fantasy|Sci-Fi</td>\n",
              "      <td>CCH Pounder</td>\n",
              "      <td>Avatar</td>\n",
              "      <td>886204</td>\n",
              "      <td>4834</td>\n",
              "      <td>Wes Studi</td>\n",
              "      <td>0.0</td>\n",
              "      <td>avatar|future|marine|native|paraplegic</td>\n",
              "      <td>http://www.imdb.com/title/tt0499549/?ref_=fn_t...</td>\n",
              "      <td>3054.0</td>\n",
              "      <td>English</td>\n",
              "      <td>USA</td>\n",
              "      <td>PG-13</td>\n",
              "      <td>237000000.0</td>\n",
              "      <td>2009.0</td>\n",
              "      <td>936.0</td>\n",
              "      <td>7.9</td>\n",
              "      <td>1.78</td>\n",
              "      <td>33000</td>\n",
              "    </tr>\n",
              "    <tr>\n",
              "      <th>1</th>\n",
              "      <td>Color</td>\n",
              "      <td>Gore Verbinski</td>\n",
              "      <td>302.0</td>\n",
              "      <td>169.0</td>\n",
              "      <td>563.0</td>\n",
              "      <td>1000.0</td>\n",
              "      <td>Orlando Bloom</td>\n",
              "      <td>40000.0</td>\n",
              "      <td>309404152.0</td>\n",
              "      <td>Action|Adventure|Fantasy</td>\n",
              "      <td>Johnny Depp</td>\n",
              "      <td>Pirates of the Caribbean: At World's End</td>\n",
              "      <td>471220</td>\n",
              "      <td>48350</td>\n",
              "      <td>Jack Davenport</td>\n",
              "      <td>0.0</td>\n",
              "      <td>goddess|marriage ceremony|marriage proposal|pi...</td>\n",
              "      <td>http://www.imdb.com/title/tt0449088/?ref_=fn_t...</td>\n",
              "      <td>1238.0</td>\n",
              "      <td>English</td>\n",
              "      <td>USA</td>\n",
              "      <td>PG-13</td>\n",
              "      <td>300000000.0</td>\n",
              "      <td>2007.0</td>\n",
              "      <td>5000.0</td>\n",
              "      <td>7.1</td>\n",
              "      <td>2.35</td>\n",
              "      <td>0</td>\n",
              "    </tr>\n",
              "    <tr>\n",
              "      <th>2</th>\n",
              "      <td>Color</td>\n",
              "      <td>Sam Mendes</td>\n",
              "      <td>602.0</td>\n",
              "      <td>148.0</td>\n",
              "      <td>0.0</td>\n",
              "      <td>161.0</td>\n",
              "      <td>Rory Kinnear</td>\n",
              "      <td>11000.0</td>\n",
              "      <td>200074175.0</td>\n",
              "      <td>Action|Adventure|Thriller</td>\n",
              "      <td>Christoph Waltz</td>\n",
              "      <td>Spectre</td>\n",
              "      <td>275868</td>\n",
              "      <td>11700</td>\n",
              "      <td>Stephanie Sigman</td>\n",
              "      <td>1.0</td>\n",
              "      <td>bomb|espionage|sequel|spy|terrorist</td>\n",
              "      <td>http://www.imdb.com/title/tt2379713/?ref_=fn_t...</td>\n",
              "      <td>994.0</td>\n",
              "      <td>English</td>\n",
              "      <td>UK</td>\n",
              "      <td>PG-13</td>\n",
              "      <td>245000000.0</td>\n",
              "      <td>2015.0</td>\n",
              "      <td>393.0</td>\n",
              "      <td>6.8</td>\n",
              "      <td>2.35</td>\n",
              "      <td>85000</td>\n",
              "    </tr>\n",
              "    <tr>\n",
              "      <th>3</th>\n",
              "      <td>Color</td>\n",
              "      <td>Christopher Nolan</td>\n",
              "      <td>813.0</td>\n",
              "      <td>164.0</td>\n",
              "      <td>22000.0</td>\n",
              "      <td>23000.0</td>\n",
              "      <td>Christian Bale</td>\n",
              "      <td>27000.0</td>\n",
              "      <td>448130642.0</td>\n",
              "      <td>Action|Thriller</td>\n",
              "      <td>Tom Hardy</td>\n",
              "      <td>The Dark Knight Rises</td>\n",
              "      <td>1144337</td>\n",
              "      <td>106759</td>\n",
              "      <td>Joseph Gordon-Levitt</td>\n",
              "      <td>0.0</td>\n",
              "      <td>deception|imprisonment|lawlessness|police offi...</td>\n",
              "      <td>http://www.imdb.com/title/tt1345836/?ref_=fn_t...</td>\n",
              "      <td>2701.0</td>\n",
              "      <td>English</td>\n",
              "      <td>USA</td>\n",
              "      <td>PG-13</td>\n",
              "      <td>250000000.0</td>\n",
              "      <td>2012.0</td>\n",
              "      <td>23000.0</td>\n",
              "      <td>8.5</td>\n",
              "      <td>2.35</td>\n",
              "      <td>164000</td>\n",
              "    </tr>\n",
              "    <tr>\n",
              "      <th>4</th>\n",
              "      <td>NaN</td>\n",
              "      <td>Doug Walker</td>\n",
              "      <td>NaN</td>\n",
              "      <td>NaN</td>\n",
              "      <td>131.0</td>\n",
              "      <td>NaN</td>\n",
              "      <td>Rob Walker</td>\n",
              "      <td>131.0</td>\n",
              "      <td>NaN</td>\n",
              "      <td>Documentary</td>\n",
              "      <td>Doug Walker</td>\n",
              "      <td>Star Wars: Episode VII - The Force Awakens    ...</td>\n",
              "      <td>8</td>\n",
              "      <td>143</td>\n",
              "      <td>NaN</td>\n",
              "      <td>0.0</td>\n",
              "      <td>NaN</td>\n",
              "      <td>http://www.imdb.com/title/tt5289954/?ref_=fn_t...</td>\n",
              "      <td>NaN</td>\n",
              "      <td>NaN</td>\n",
              "      <td>NaN</td>\n",
              "      <td>NaN</td>\n",
              "      <td>NaN</td>\n",
              "      <td>NaN</td>\n",
              "      <td>12.0</td>\n",
              "      <td>7.1</td>\n",
              "      <td>NaN</td>\n",
              "      <td>0</td>\n",
              "    </tr>\n",
              "  </tbody>\n",
              "</table>\n",
              "</div>"
            ],
            "text/plain": [
              "   color      director_name  ...  aspect_ratio  movie_facebook_likes\n",
              "0  Color      James Cameron  ...          1.78                 33000\n",
              "1  Color     Gore Verbinski  ...          2.35                     0\n",
              "2  Color         Sam Mendes  ...          2.35                 85000\n",
              "3  Color  Christopher Nolan  ...          2.35                164000\n",
              "4    NaN        Doug Walker  ...           NaN                     0\n",
              "\n",
              "[5 rows x 28 columns]"
            ]
          },
          "metadata": {
            "tags": []
          },
          "execution_count": 9
        }
      ]
    },
    {
      "cell_type": "code",
      "metadata": {
        "id": "EjVbX_h_9d13",
        "colab": {
          "base_uri": "https://localhost:8080/",
          "height": 351
        },
        "outputId": "5bd1d679-1a03-4c07-bca3-9a9947d85847"
      },
      "source": [
        "data.head()"
      ],
      "execution_count": 10,
      "outputs": [
        {
          "output_type": "execute_result",
          "data": {
            "text/html": [
              "<div>\n",
              "<style scoped>\n",
              "    .dataframe tbody tr th:only-of-type {\n",
              "        vertical-align: middle;\n",
              "    }\n",
              "\n",
              "    .dataframe tbody tr th {\n",
              "        vertical-align: top;\n",
              "    }\n",
              "\n",
              "    .dataframe thead th {\n",
              "        text-align: right;\n",
              "    }\n",
              "</style>\n",
              "<table border=\"1\" class=\"dataframe\">\n",
              "  <thead>\n",
              "    <tr style=\"text-align: right;\">\n",
              "      <th></th>\n",
              "      <th>color</th>\n",
              "      <th>director_name</th>\n",
              "      <th>num_critic_for_reviews</th>\n",
              "      <th>duration</th>\n",
              "      <th>director_facebook_likes</th>\n",
              "      <th>actor_3_facebook_likes</th>\n",
              "      <th>actor_2_name</th>\n",
              "      <th>actor_1_facebook_likes</th>\n",
              "      <th>gross</th>\n",
              "      <th>genres</th>\n",
              "      <th>actor_1_name</th>\n",
              "      <th>movie_title</th>\n",
              "      <th>num_voted_users</th>\n",
              "      <th>cast_total_facebook_likes</th>\n",
              "      <th>actor_3_name</th>\n",
              "      <th>facenumber_in_poster</th>\n",
              "      <th>plot_keywords</th>\n",
              "      <th>movie_imdb_link</th>\n",
              "      <th>num_user_for_reviews</th>\n",
              "      <th>language</th>\n",
              "      <th>country</th>\n",
              "      <th>content_rating</th>\n",
              "      <th>budget</th>\n",
              "      <th>title_year</th>\n",
              "      <th>actor_2_facebook_likes</th>\n",
              "      <th>imdb_score</th>\n",
              "      <th>aspect_ratio</th>\n",
              "      <th>movie_facebook_likes</th>\n",
              "    </tr>\n",
              "  </thead>\n",
              "  <tbody>\n",
              "    <tr>\n",
              "      <th>0</th>\n",
              "      <td>Color</td>\n",
              "      <td>James Cameron</td>\n",
              "      <td>723.0</td>\n",
              "      <td>178.0</td>\n",
              "      <td>0.0</td>\n",
              "      <td>855.0</td>\n",
              "      <td>Joel David Moore</td>\n",
              "      <td>1000.0</td>\n",
              "      <td>760505847.0</td>\n",
              "      <td>Action|Adventure|Fantasy|Sci-Fi</td>\n",
              "      <td>CCH Pounder</td>\n",
              "      <td>Avatar</td>\n",
              "      <td>886204</td>\n",
              "      <td>4834</td>\n",
              "      <td>Wes Studi</td>\n",
              "      <td>0.0</td>\n",
              "      <td>avatar|future|marine|native|paraplegic</td>\n",
              "      <td>http://www.imdb.com/title/tt0499549/?ref_=fn_t...</td>\n",
              "      <td>3054.0</td>\n",
              "      <td>English</td>\n",
              "      <td>USA</td>\n",
              "      <td>PG-13</td>\n",
              "      <td>237000000.0</td>\n",
              "      <td>2009.0</td>\n",
              "      <td>936.0</td>\n",
              "      <td>7.9</td>\n",
              "      <td>1.78</td>\n",
              "      <td>33000</td>\n",
              "    </tr>\n",
              "    <tr>\n",
              "      <th>1</th>\n",
              "      <td>Color</td>\n",
              "      <td>Gore Verbinski</td>\n",
              "      <td>302.0</td>\n",
              "      <td>169.0</td>\n",
              "      <td>563.0</td>\n",
              "      <td>1000.0</td>\n",
              "      <td>Orlando Bloom</td>\n",
              "      <td>40000.0</td>\n",
              "      <td>309404152.0</td>\n",
              "      <td>Action|Adventure|Fantasy</td>\n",
              "      <td>Johnny Depp</td>\n",
              "      <td>Pirates of the Caribbean: At World's End</td>\n",
              "      <td>471220</td>\n",
              "      <td>48350</td>\n",
              "      <td>Jack Davenport</td>\n",
              "      <td>0.0</td>\n",
              "      <td>goddess|marriage ceremony|marriage proposal|pi...</td>\n",
              "      <td>http://www.imdb.com/title/tt0449088/?ref_=fn_t...</td>\n",
              "      <td>1238.0</td>\n",
              "      <td>English</td>\n",
              "      <td>USA</td>\n",
              "      <td>PG-13</td>\n",
              "      <td>300000000.0</td>\n",
              "      <td>2007.0</td>\n",
              "      <td>5000.0</td>\n",
              "      <td>7.1</td>\n",
              "      <td>2.35</td>\n",
              "      <td>0</td>\n",
              "    </tr>\n",
              "    <tr>\n",
              "      <th>2</th>\n",
              "      <td>Color</td>\n",
              "      <td>Sam Mendes</td>\n",
              "      <td>602.0</td>\n",
              "      <td>148.0</td>\n",
              "      <td>0.0</td>\n",
              "      <td>161.0</td>\n",
              "      <td>Rory Kinnear</td>\n",
              "      <td>11000.0</td>\n",
              "      <td>200074175.0</td>\n",
              "      <td>Action|Adventure|Thriller</td>\n",
              "      <td>Christoph Waltz</td>\n",
              "      <td>Spectre</td>\n",
              "      <td>275868</td>\n",
              "      <td>11700</td>\n",
              "      <td>Stephanie Sigman</td>\n",
              "      <td>1.0</td>\n",
              "      <td>bomb|espionage|sequel|spy|terrorist</td>\n",
              "      <td>http://www.imdb.com/title/tt2379713/?ref_=fn_t...</td>\n",
              "      <td>994.0</td>\n",
              "      <td>English</td>\n",
              "      <td>UK</td>\n",
              "      <td>PG-13</td>\n",
              "      <td>245000000.0</td>\n",
              "      <td>2015.0</td>\n",
              "      <td>393.0</td>\n",
              "      <td>6.8</td>\n",
              "      <td>2.35</td>\n",
              "      <td>85000</td>\n",
              "    </tr>\n",
              "    <tr>\n",
              "      <th>3</th>\n",
              "      <td>Color</td>\n",
              "      <td>Christopher Nolan</td>\n",
              "      <td>813.0</td>\n",
              "      <td>164.0</td>\n",
              "      <td>22000.0</td>\n",
              "      <td>23000.0</td>\n",
              "      <td>Christian Bale</td>\n",
              "      <td>27000.0</td>\n",
              "      <td>448130642.0</td>\n",
              "      <td>Action|Thriller</td>\n",
              "      <td>Tom Hardy</td>\n",
              "      <td>The Dark Knight Rises</td>\n",
              "      <td>1144337</td>\n",
              "      <td>106759</td>\n",
              "      <td>Joseph Gordon-Levitt</td>\n",
              "      <td>0.0</td>\n",
              "      <td>deception|imprisonment|lawlessness|police offi...</td>\n",
              "      <td>http://www.imdb.com/title/tt1345836/?ref_=fn_t...</td>\n",
              "      <td>2701.0</td>\n",
              "      <td>English</td>\n",
              "      <td>USA</td>\n",
              "      <td>PG-13</td>\n",
              "      <td>250000000.0</td>\n",
              "      <td>2012.0</td>\n",
              "      <td>23000.0</td>\n",
              "      <td>8.5</td>\n",
              "      <td>2.35</td>\n",
              "      <td>164000</td>\n",
              "    </tr>\n",
              "    <tr>\n",
              "      <th>4</th>\n",
              "      <td>NaN</td>\n",
              "      <td>Doug Walker</td>\n",
              "      <td>NaN</td>\n",
              "      <td>NaN</td>\n",
              "      <td>131.0</td>\n",
              "      <td>NaN</td>\n",
              "      <td>Rob Walker</td>\n",
              "      <td>131.0</td>\n",
              "      <td>NaN</td>\n",
              "      <td>Documentary</td>\n",
              "      <td>Doug Walker</td>\n",
              "      <td>Star Wars: Episode VII - The Force Awakens    ...</td>\n",
              "      <td>8</td>\n",
              "      <td>143</td>\n",
              "      <td>NaN</td>\n",
              "      <td>0.0</td>\n",
              "      <td>NaN</td>\n",
              "      <td>http://www.imdb.com/title/tt5289954/?ref_=fn_t...</td>\n",
              "      <td>NaN</td>\n",
              "      <td>NaN</td>\n",
              "      <td>NaN</td>\n",
              "      <td>NaN</td>\n",
              "      <td>NaN</td>\n",
              "      <td>NaN</td>\n",
              "      <td>12.0</td>\n",
              "      <td>7.1</td>\n",
              "      <td>NaN</td>\n",
              "      <td>0</td>\n",
              "    </tr>\n",
              "  </tbody>\n",
              "</table>\n",
              "</div>"
            ],
            "text/plain": [
              "   color      director_name  ...  aspect_ratio  movie_facebook_likes\n",
              "0  Color      James Cameron  ...          1.78                 33000\n",
              "1  Color     Gore Verbinski  ...          2.35                     0\n",
              "2  Color         Sam Mendes  ...          2.35                 85000\n",
              "3  Color  Christopher Nolan  ...          2.35                164000\n",
              "4    NaN        Doug Walker  ...           NaN                     0\n",
              "\n",
              "[5 rows x 28 columns]"
            ]
          },
          "metadata": {
            "tags": []
          },
          "execution_count": 10
        }
      ]
    },
    {
      "cell_type": "code",
      "metadata": {
        "id": "Yk6wsgAF_nn_"
      },
      "source": [
        "data.drop(['duration', 'actor_3_facebook_likes', 'actor_2_facebook_likes', 'actor_1_facebook_likes', 'movie_imdb_link' , 'country', 'movie_facebook_likes', 'budget', 'title_year'], axis=1, inplace=True)"
      ],
      "execution_count": 11,
      "outputs": []
    },
    {
      "cell_type": "code",
      "metadata": {
        "id": "eyyl5kAiAiNC"
      },
      "source": [
        "data.drop(['aspect_ratio'], axis=1, inplace=True)"
      ],
      "execution_count": 12,
      "outputs": []
    },
    {
      "cell_type": "code",
      "metadata": {
        "id": "sAkamNyRKNkw"
      },
      "source": [
        "data.drop(['color', 'num_critic_for_reviews', 'director_facebook_likes', 'gross', 'num_voted_users' , 'cast_total_facebook_likes', 'facenumber_in_poster', 'plot_keywords', 'num_user_for_reviews', 'language', 'content_rating'], axis=1, inplace=True)"
      ],
      "execution_count": 13,
      "outputs": []
    },
    {
      "cell_type": "code",
      "metadata": {
        "id": "02rhcsp5MHTf",
        "colab": {
          "base_uri": "https://localhost:8080/",
          "height": 197
        },
        "outputId": "99aed1a9-5fe5-47b1-af00-8d8100542959"
      },
      "source": [
        "data.head()"
      ],
      "execution_count": 14,
      "outputs": [
        {
          "output_type": "execute_result",
          "data": {
            "text/html": [
              "<div>\n",
              "<style scoped>\n",
              "    .dataframe tbody tr th:only-of-type {\n",
              "        vertical-align: middle;\n",
              "    }\n",
              "\n",
              "    .dataframe tbody tr th {\n",
              "        vertical-align: top;\n",
              "    }\n",
              "\n",
              "    .dataframe thead th {\n",
              "        text-align: right;\n",
              "    }\n",
              "</style>\n",
              "<table border=\"1\" class=\"dataframe\">\n",
              "  <thead>\n",
              "    <tr style=\"text-align: right;\">\n",
              "      <th></th>\n",
              "      <th>director_name</th>\n",
              "      <th>actor_2_name</th>\n",
              "      <th>genres</th>\n",
              "      <th>actor_1_name</th>\n",
              "      <th>movie_title</th>\n",
              "      <th>actor_3_name</th>\n",
              "      <th>imdb_score</th>\n",
              "    </tr>\n",
              "  </thead>\n",
              "  <tbody>\n",
              "    <tr>\n",
              "      <th>0</th>\n",
              "      <td>James Cameron</td>\n",
              "      <td>Joel David Moore</td>\n",
              "      <td>Action|Adventure|Fantasy|Sci-Fi</td>\n",
              "      <td>CCH Pounder</td>\n",
              "      <td>Avatar</td>\n",
              "      <td>Wes Studi</td>\n",
              "      <td>7.9</td>\n",
              "    </tr>\n",
              "    <tr>\n",
              "      <th>1</th>\n",
              "      <td>Gore Verbinski</td>\n",
              "      <td>Orlando Bloom</td>\n",
              "      <td>Action|Adventure|Fantasy</td>\n",
              "      <td>Johnny Depp</td>\n",
              "      <td>Pirates of the Caribbean: At World's End</td>\n",
              "      <td>Jack Davenport</td>\n",
              "      <td>7.1</td>\n",
              "    </tr>\n",
              "    <tr>\n",
              "      <th>2</th>\n",
              "      <td>Sam Mendes</td>\n",
              "      <td>Rory Kinnear</td>\n",
              "      <td>Action|Adventure|Thriller</td>\n",
              "      <td>Christoph Waltz</td>\n",
              "      <td>Spectre</td>\n",
              "      <td>Stephanie Sigman</td>\n",
              "      <td>6.8</td>\n",
              "    </tr>\n",
              "    <tr>\n",
              "      <th>3</th>\n",
              "      <td>Christopher Nolan</td>\n",
              "      <td>Christian Bale</td>\n",
              "      <td>Action|Thriller</td>\n",
              "      <td>Tom Hardy</td>\n",
              "      <td>The Dark Knight Rises</td>\n",
              "      <td>Joseph Gordon-Levitt</td>\n",
              "      <td>8.5</td>\n",
              "    </tr>\n",
              "    <tr>\n",
              "      <th>4</th>\n",
              "      <td>Doug Walker</td>\n",
              "      <td>Rob Walker</td>\n",
              "      <td>Documentary</td>\n",
              "      <td>Doug Walker</td>\n",
              "      <td>Star Wars: Episode VII - The Force Awakens    ...</td>\n",
              "      <td>NaN</td>\n",
              "      <td>7.1</td>\n",
              "    </tr>\n",
              "  </tbody>\n",
              "</table>\n",
              "</div>"
            ],
            "text/plain": [
              "       director_name      actor_2_name  ...          actor_3_name imdb_score\n",
              "0      James Cameron  Joel David Moore  ...             Wes Studi        7.9\n",
              "1     Gore Verbinski     Orlando Bloom  ...        Jack Davenport        7.1\n",
              "2         Sam Mendes      Rory Kinnear  ...      Stephanie Sigman        6.8\n",
              "3  Christopher Nolan    Christian Bale  ...  Joseph Gordon-Levitt        8.5\n",
              "4        Doug Walker        Rob Walker  ...                   NaN        7.1\n",
              "\n",
              "[5 rows x 7 columns]"
            ]
          },
          "metadata": {
            "tags": []
          },
          "execution_count": 14
        }
      ]
    },
    {
      "cell_type": "code",
      "metadata": {
        "id": "knlYdM2pA0NQ",
        "colab": {
          "base_uri": "https://localhost:8080/"
        },
        "outputId": "030b9b33-772e-42ca-c0d0-08ed8760b28c"
      },
      "source": [
        "data.shape"
      ],
      "execution_count": 15,
      "outputs": [
        {
          "output_type": "execute_result",
          "data": {
            "text/plain": [
              "(5043, 7)"
            ]
          },
          "metadata": {
            "tags": []
          },
          "execution_count": 15
        }
      ]
    },
    {
      "cell_type": "code",
      "metadata": {
        "id": "rYHEyonOBdM3"
      },
      "source": [
        "DatasetMovie=[]\n",
        "for x in range(0,1000):\n",
        "    DatasetMovie.append([str(data.values[x,y]) for y in range(0,7)])"
      ],
      "execution_count": 16,
      "outputs": []
    },
    {
      "cell_type": "code",
      "metadata": {
        "id": "1_tUfSwfB2m1",
        "colab": {
          "base_uri": "https://localhost:8080/"
        },
        "outputId": "e9bd456b-fb09-4087-dcb4-3bc0a9bc5e3c"
      },
      "source": [
        "DatasetMovie[:1]"
      ],
      "execution_count": 17,
      "outputs": [
        {
          "output_type": "execute_result",
          "data": {
            "text/plain": [
              "[['James Cameron',\n",
              "  'Joel David Moore',\n",
              "  'Action|Adventure|Fantasy|Sci-Fi',\n",
              "  'CCH Pounder',\n",
              "  'Avatar\\xa0',\n",
              "  'Wes Studi',\n",
              "  '7.9']]"
            ]
          },
          "metadata": {
            "tags": []
          },
          "execution_count": 17
        }
      ]
    },
    {
      "cell_type": "code",
      "metadata": {
        "id": "aMgyQ3eSCP_J"
      },
      "source": [
        "def getReccomendation(r):\n",
        "    for x in range(0,1000):\n",
        "      if (DatasetMovie)[x][3] == r[3] or (DatasetMovie)[x][2] == r[0] or (DatasetMovie)[x][2] == r[2]:\n",
        "        if DatasetMovie[x][4] != r[4]:\n",
        "          return DatasetMovie[x]\n",
        "        else:\n",
        "          return random.choice(DatasetMovie)\n",
        "      else: \n",
        "        return random.choice(DatasetMovie)"
      ],
      "execution_count": 18,
      "outputs": []
    },
    {
      "cell_type": "code",
      "metadata": {
        "id": "vP3kP-4bCnOD"
      },
      "source": [
        "movieRiwayat=[]\n",
        "userRiwayat=[]\n",
        "for x in range(0,1000):\n",
        "    firtsMovie = (random.choice(DatasetMovie))\n",
        "    userRiwayat.append([])\n",
        "    movieRiwayat.append([])\n",
        "    movieRiwayat[x].append(getReccomendation(firtsMovie))\n",
        "    for y in range(0,9):\n",
        "      movieRiwayat[x].append(getReccomendation(movieRiwayat[x][y]))\n",
        "      userRiwayat[x].append(movieRiwayat[x][y][4].replace(u'\\xa0', u''))"
      ],
      "execution_count": 19,
      "outputs": []
    },
    {
      "cell_type": "code",
      "metadata": {
        "id": "05zrfXSzG-iI",
        "colab": {
          "base_uri": "https://localhost:8080/"
        },
        "outputId": "66a414ab-4f3b-4df3-d758-4af550ecc91b"
      },
      "source": [
        "userRiwayat[:1]"
      ],
      "execution_count": 20,
      "outputs": [
        {
          "output_type": "execute_result",
          "data": {
            "text/plain": [
              "[['American Wedding',\n",
              "  'Hotel Transylvania 2',\n",
              "  'DragonHeart',\n",
              "  'Dreamgirls',\n",
              "  \"Captain Corelli's Mandolin\",\n",
              "  'American Reunion',\n",
              "  'Ice Age: Dawn of the Dinosaurs',\n",
              "  'The Smurfs',\n",
              "  \"The Emperor's New Groove\"]]"
            ]
          },
          "metadata": {
            "tags": []
          },
          "execution_count": 20
        }
      ]
    },
    {
      "cell_type": "code",
      "metadata": {
        "colab": {
          "base_uri": "https://localhost:8080/",
          "height": 406
        },
        "id": "GN153p_4CVTl",
        "outputId": "7444bbc2-f284-4d64-fab1-7b4307330cba"
      },
      "source": [
        "user,user1,user2=[],[],[]\n",
        "for result in userRiwayat:\n",
        "    user1.append(result[1])\n",
        "    user.append(result[0])\n",
        "    user2.append(result[7])\n",
        "    columns=list(zip(user,user1,user2))\n",
        "    dataset=pd.DataFrame(columns)\n",
        "dataset.columns=['Film yang dipilih','Film yang dipilih','Film yang dipilih']\n",
        "dataset"
      ],
      "execution_count": 21,
      "outputs": [
        {
          "output_type": "execute_result",
          "data": {
            "text/html": [
              "<div>\n",
              "<style scoped>\n",
              "    .dataframe tbody tr th:only-of-type {\n",
              "        vertical-align: middle;\n",
              "    }\n",
              "\n",
              "    .dataframe tbody tr th {\n",
              "        vertical-align: top;\n",
              "    }\n",
              "\n",
              "    .dataframe thead th {\n",
              "        text-align: right;\n",
              "    }\n",
              "</style>\n",
              "<table border=\"1\" class=\"dataframe\">\n",
              "  <thead>\n",
              "    <tr style=\"text-align: right;\">\n",
              "      <th></th>\n",
              "      <th>Film yang dipilih</th>\n",
              "      <th>Film yang dipilih</th>\n",
              "      <th>Film yang dipilih</th>\n",
              "    </tr>\n",
              "  </thead>\n",
              "  <tbody>\n",
              "    <tr>\n",
              "      <th>0</th>\n",
              "      <td>American Wedding</td>\n",
              "      <td>Hotel Transylvania 2</td>\n",
              "      <td>The Smurfs</td>\n",
              "    </tr>\n",
              "    <tr>\n",
              "      <th>1</th>\n",
              "      <td>The Three Musketeers</td>\n",
              "      <td>Patch Adams</td>\n",
              "      <td>Hereafter</td>\n",
              "    </tr>\n",
              "    <tr>\n",
              "      <th>2</th>\n",
              "      <td>The Pacifier</td>\n",
              "      <td>2 Guns</td>\n",
              "      <td>Charlotte's Web</td>\n",
              "    </tr>\n",
              "    <tr>\n",
              "      <th>3</th>\n",
              "      <td>The Change-Up</td>\n",
              "      <td>The Forbidden Kingdom</td>\n",
              "      <td>Beloved</td>\n",
              "    </tr>\n",
              "    <tr>\n",
              "      <th>4</th>\n",
              "      <td>Mars Attacks!</td>\n",
              "      <td>Salt</td>\n",
              "      <td>The Road to El Dorado</td>\n",
              "    </tr>\n",
              "    <tr>\n",
              "      <th>...</th>\n",
              "      <td>...</td>\n",
              "      <td>...</td>\n",
              "      <td>...</td>\n",
              "    </tr>\n",
              "    <tr>\n",
              "      <th>995</th>\n",
              "      <td>Seven Years in Tibet</td>\n",
              "      <td>The Long Kiss Goodnight</td>\n",
              "      <td>The Soloist</td>\n",
              "    </tr>\n",
              "    <tr>\n",
              "      <th>996</th>\n",
              "      <td>Transcendence</td>\n",
              "      <td>Thor</td>\n",
              "      <td>Dante's Peak</td>\n",
              "    </tr>\n",
              "    <tr>\n",
              "      <th>997</th>\n",
              "      <td>The Legend of Bagger Vance</td>\n",
              "      <td>300: Rise of an Empire</td>\n",
              "      <td>The Bourne Legacy</td>\n",
              "    </tr>\n",
              "    <tr>\n",
              "      <th>998</th>\n",
              "      <td>Dr. Dolittle 2</td>\n",
              "      <td>Star Wars: Episode VII - The Force Awakens    ...</td>\n",
              "      <td>Casino Royale</td>\n",
              "    </tr>\n",
              "    <tr>\n",
              "      <th>999</th>\n",
              "      <td>World War Z</td>\n",
              "      <td>G.I. Joe: Retaliation</td>\n",
              "      <td>Ransom</td>\n",
              "    </tr>\n",
              "  </tbody>\n",
              "</table>\n",
              "<p>1000 rows × 3 columns</p>\n",
              "</div>"
            ],
            "text/plain": [
              "              Film yang dipilih  ...      Film yang dipilih\n",
              "0              American Wedding  ...             The Smurfs\n",
              "1          The Three Musketeers  ...              Hereafter\n",
              "2                  The Pacifier  ...        Charlotte's Web\n",
              "3                 The Change-Up  ...                Beloved\n",
              "4                 Mars Attacks!  ...  The Road to El Dorado\n",
              "..                          ...  ...                    ...\n",
              "995        Seven Years in Tibet  ...            The Soloist\n",
              "996               Transcendence  ...           Dante's Peak\n",
              "997  The Legend of Bagger Vance  ...      The Bourne Legacy\n",
              "998              Dr. Dolittle 2  ...          Casino Royale\n",
              "999                 World War Z  ...                 Ransom\n",
              "\n",
              "[1000 rows x 3 columns]"
            ]
          },
          "metadata": {
            "tags": []
          },
          "execution_count": 21
        }
      ]
    },
    {
      "cell_type": "code",
      "metadata": {
        "id": "Ixv7NZk1Ovlr",
        "colab": {
          "base_uri": "https://localhost:8080/"
        },
        "outputId": "5abf0487-9d9a-4b38-c610-d92a5be5d2bb"
      },
      "source": [
        "pip install pyfpgrowth"
      ],
      "execution_count": 22,
      "outputs": [
        {
          "output_type": "stream",
          "text": [
            "Collecting pyfpgrowth\n",
            "\u001b[?25l  Downloading https://files.pythonhosted.org/packages/d2/4c/8b7cd90b4118ff0286d6584909b99e1ca5642bdc9072fa5a8dd361c864a0/pyfpgrowth-1.0.tar.gz (1.6MB)\n",
            "\r\u001b[K     |▏                               | 10kB 14.7MB/s eta 0:00:01\r\u001b[K     |▍                               | 20kB 20.2MB/s eta 0:00:01\r\u001b[K     |▋                               | 30kB 25.2MB/s eta 0:00:01\r\u001b[K     |▉                               | 40kB 19.7MB/s eta 0:00:01\r\u001b[K     |█                               | 51kB 17.4MB/s eta 0:00:01\r\u001b[K     |█▏                              | 61kB 17.0MB/s eta 0:00:01\r\u001b[K     |█▍                              | 71kB 11.8MB/s eta 0:00:01\r\u001b[K     |█▋                              | 81kB 12.8MB/s eta 0:00:01\r\u001b[K     |█▉                              | 92kB 12.1MB/s eta 0:00:01\r\u001b[K     |██                              | 102kB 11.2MB/s eta 0:00:01\r\u001b[K     |██▏                             | 112kB 11.2MB/s eta 0:00:01\r\u001b[K     |██▍                             | 122kB 11.2MB/s eta 0:00:01\r\u001b[K     |██▋                             | 133kB 11.2MB/s eta 0:00:01\r\u001b[K     |██▉                             | 143kB 11.2MB/s eta 0:00:01\r\u001b[K     |███                             | 153kB 11.2MB/s eta 0:00:01\r\u001b[K     |███▏                            | 163kB 11.2MB/s eta 0:00:01\r\u001b[K     |███▍                            | 174kB 11.2MB/s eta 0:00:01\r\u001b[K     |███▋                            | 184kB 11.2MB/s eta 0:00:01\r\u001b[K     |███▉                            | 194kB 11.2MB/s eta 0:00:01\r\u001b[K     |████                            | 204kB 11.2MB/s eta 0:00:01\r\u001b[K     |████▏                           | 215kB 11.2MB/s eta 0:00:01\r\u001b[K     |████▍                           | 225kB 11.2MB/s eta 0:00:01\r\u001b[K     |████▋                           | 235kB 11.2MB/s eta 0:00:01\r\u001b[K     |████▉                           | 245kB 11.2MB/s eta 0:00:01\r\u001b[K     |█████                           | 256kB 11.2MB/s eta 0:00:01\r\u001b[K     |█████▏                          | 266kB 11.2MB/s eta 0:00:01\r\u001b[K     |█████▍                          | 276kB 11.2MB/s eta 0:00:01\r\u001b[K     |█████▋                          | 286kB 11.2MB/s eta 0:00:01\r\u001b[K     |█████▉                          | 296kB 11.2MB/s eta 0:00:01\r\u001b[K     |██████                          | 307kB 11.2MB/s eta 0:00:01\r\u001b[K     |██████▏                         | 317kB 11.2MB/s eta 0:00:01\r\u001b[K     |██████▍                         | 327kB 11.2MB/s eta 0:00:01\r\u001b[K     |██████▋                         | 337kB 11.2MB/s eta 0:00:01\r\u001b[K     |██████▉                         | 348kB 11.2MB/s eta 0:00:01\r\u001b[K     |███████                         | 358kB 11.2MB/s eta 0:00:01\r\u001b[K     |███████▏                        | 368kB 11.2MB/s eta 0:00:01\r\u001b[K     |███████▍                        | 378kB 11.2MB/s eta 0:00:01\r\u001b[K     |███████▋                        | 389kB 11.2MB/s eta 0:00:01\r\u001b[K     |███████▉                        | 399kB 11.2MB/s eta 0:00:01\r\u001b[K     |████████                        | 409kB 11.2MB/s eta 0:00:01\r\u001b[K     |████████▏                       | 419kB 11.2MB/s eta 0:00:01\r\u001b[K     |████████▍                       | 430kB 11.2MB/s eta 0:00:01\r\u001b[K     |████████▋                       | 440kB 11.2MB/s eta 0:00:01\r\u001b[K     |████████▉                       | 450kB 11.2MB/s eta 0:00:01\r\u001b[K     |█████████                       | 460kB 11.2MB/s eta 0:00:01\r\u001b[K     |█████████▏                      | 471kB 11.2MB/s eta 0:00:01\r\u001b[K     |█████████▍                      | 481kB 11.2MB/s eta 0:00:01\r\u001b[K     |█████████▋                      | 491kB 11.2MB/s eta 0:00:01\r\u001b[K     |█████████▉                      | 501kB 11.2MB/s eta 0:00:01\r\u001b[K     |██████████                      | 512kB 11.2MB/s eta 0:00:01\r\u001b[K     |██████████▏                     | 522kB 11.2MB/s eta 0:00:01\r\u001b[K     |██████████▍                     | 532kB 11.2MB/s eta 0:00:01\r\u001b[K     |██████████▋                     | 542kB 11.2MB/s eta 0:00:01\r\u001b[K     |██████████▉                     | 552kB 11.2MB/s eta 0:00:01\r\u001b[K     |███████████                     | 563kB 11.2MB/s eta 0:00:01\r\u001b[K     |███████████▏                    | 573kB 11.2MB/s eta 0:00:01\r\u001b[K     |███████████▍                    | 583kB 11.2MB/s eta 0:00:01\r\u001b[K     |███████████▋                    | 593kB 11.2MB/s eta 0:00:01\r\u001b[K     |███████████▉                    | 604kB 11.2MB/s eta 0:00:01\r\u001b[K     |████████████                    | 614kB 11.2MB/s eta 0:00:01\r\u001b[K     |████████████▏                   | 624kB 11.2MB/s eta 0:00:01\r\u001b[K     |████████████▍                   | 634kB 11.2MB/s eta 0:00:01\r\u001b[K     |████████████▋                   | 645kB 11.2MB/s eta 0:00:01\r\u001b[K     |████████████▊                   | 655kB 11.2MB/s eta 0:00:01\r\u001b[K     |█████████████                   | 665kB 11.2MB/s eta 0:00:01\r\u001b[K     |█████████████▏                  | 675kB 11.2MB/s eta 0:00:01\r\u001b[K     |█████████████▍                  | 686kB 11.2MB/s eta 0:00:01\r\u001b[K     |█████████████▋                  | 696kB 11.2MB/s eta 0:00:01\r\u001b[K     |█████████████▊                  | 706kB 11.2MB/s eta 0:00:01\r\u001b[K     |██████████████                  | 716kB 11.2MB/s eta 0:00:01\r\u001b[K     |██████████████▏                 | 727kB 11.2MB/s eta 0:00:01\r\u001b[K     |██████████████▍                 | 737kB 11.2MB/s eta 0:00:01\r\u001b[K     |██████████████▋                 | 747kB 11.2MB/s eta 0:00:01\r\u001b[K     |██████████████▊                 | 757kB 11.2MB/s eta 0:00:01\r\u001b[K     |███████████████                 | 768kB 11.2MB/s eta 0:00:01\r\u001b[K     |███████████████▏                | 778kB 11.2MB/s eta 0:00:01\r\u001b[K     |███████████████▍                | 788kB 11.2MB/s eta 0:00:01\r\u001b[K     |███████████████▋                | 798kB 11.2MB/s eta 0:00:01\r\u001b[K     |███████████████▊                | 808kB 11.2MB/s eta 0:00:01\r\u001b[K     |████████████████                | 819kB 11.2MB/s eta 0:00:01\r\u001b[K     |████████████████▏               | 829kB 11.2MB/s eta 0:00:01\r\u001b[K     |████████████████▍               | 839kB 11.2MB/s eta 0:00:01\r\u001b[K     |████████████████▋               | 849kB 11.2MB/s eta 0:00:01\r\u001b[K     |████████████████▊               | 860kB 11.2MB/s eta 0:00:01\r\u001b[K     |█████████████████               | 870kB 11.2MB/s eta 0:00:01\r\u001b[K     |█████████████████▏              | 880kB 11.2MB/s eta 0:00:01\r\u001b[K     |█████████████████▍              | 890kB 11.2MB/s eta 0:00:01\r\u001b[K     |█████████████████▋              | 901kB 11.2MB/s eta 0:00:01\r\u001b[K     |█████████████████▊              | 911kB 11.2MB/s eta 0:00:01\r\u001b[K     |██████████████████              | 921kB 11.2MB/s eta 0:00:01\r\u001b[K     |██████████████████▏             | 931kB 11.2MB/s eta 0:00:01\r\u001b[K     |██████████████████▍             | 942kB 11.2MB/s eta 0:00:01\r\u001b[K     |██████████████████▋             | 952kB 11.2MB/s eta 0:00:01\r\u001b[K     |██████████████████▊             | 962kB 11.2MB/s eta 0:00:01\r\u001b[K     |███████████████████             | 972kB 11.2MB/s eta 0:00:01\r\u001b[K     |███████████████████▏            | 983kB 11.2MB/s eta 0:00:01\r\u001b[K     |███████████████████▍            | 993kB 11.2MB/s eta 0:00:01\r\u001b[K     |███████████████████▋            | 1.0MB 11.2MB/s eta 0:00:01\r\u001b[K     |███████████████████▊            | 1.0MB 11.2MB/s eta 0:00:01\r\u001b[K     |████████████████████            | 1.0MB 11.2MB/s eta 0:00:01\r\u001b[K     |████████████████████▏           | 1.0MB 11.2MB/s eta 0:00:01\r\u001b[K     |████████████████████▍           | 1.0MB 11.2MB/s eta 0:00:01\r\u001b[K     |████████████████████▋           | 1.1MB 11.2MB/s eta 0:00:01\r\u001b[K     |████████████████████▊           | 1.1MB 11.2MB/s eta 0:00:01\r\u001b[K     |█████████████████████           | 1.1MB 11.2MB/s eta 0:00:01\r\u001b[K     |█████████████████████▏          | 1.1MB 11.2MB/s eta 0:00:01\r\u001b[K     |█████████████████████▍          | 1.1MB 11.2MB/s eta 0:00:01\r\u001b[K     |█████████████████████▋          | 1.1MB 11.2MB/s eta 0:00:01\r\u001b[K     |█████████████████████▊          | 1.1MB 11.2MB/s eta 0:00:01\r\u001b[K     |██████████████████████          | 1.1MB 11.2MB/s eta 0:00:01\r\u001b[K     |██████████████████████▏         | 1.1MB 11.2MB/s eta 0:00:01\r\u001b[K     |██████████████████████▍         | 1.1MB 11.2MB/s eta 0:00:01\r\u001b[K     |██████████████████████▋         | 1.2MB 11.2MB/s eta 0:00:01\r\u001b[K     |██████████████████████▊         | 1.2MB 11.2MB/s eta 0:00:01\r\u001b[K     |███████████████████████         | 1.2MB 11.2MB/s eta 0:00:01\r\u001b[K     |███████████████████████▏        | 1.2MB 11.2MB/s eta 0:00:01\r\u001b[K     |███████████████████████▍        | 1.2MB 11.2MB/s eta 0:00:01\r\u001b[K     |███████████████████████▋        | 1.2MB 11.2MB/s eta 0:00:01\r\u001b[K     |███████████████████████▊        | 1.2MB 11.2MB/s eta 0:00:01\r\u001b[K     |████████████████████████        | 1.2MB 11.2MB/s eta 0:00:01\r\u001b[K     |████████████████████████▏       | 1.2MB 11.2MB/s eta 0:00:01\r\u001b[K     |████████████████████████▍       | 1.2MB 11.2MB/s eta 0:00:01\r\u001b[K     |████████████████████████▌       | 1.3MB 11.2MB/s eta 0:00:01\r\u001b[K     |████████████████████████▊       | 1.3MB 11.2MB/s eta 0:00:01\r\u001b[K     |█████████████████████████       | 1.3MB 11.2MB/s eta 0:00:01\r\u001b[K     |█████████████████████████▏      | 1.3MB 11.2MB/s eta 0:00:01\r\u001b[K     |█████████████████████████▍      | 1.3MB 11.2MB/s eta 0:00:01\r\u001b[K     |█████████████████████████▌      | 1.3MB 11.2MB/s eta 0:00:01\r\u001b[K     |█████████████████████████▊      | 1.3MB 11.2MB/s eta 0:00:01\r\u001b[K     |██████████████████████████      | 1.3MB 11.2MB/s eta 0:00:01\r\u001b[K     |██████████████████████████▏     | 1.3MB 11.2MB/s eta 0:00:01\r\u001b[K     |██████████████████████████▍     | 1.4MB 11.2MB/s eta 0:00:01\r\u001b[K     |██████████████████████████▌     | 1.4MB 11.2MB/s eta 0:00:01\r\u001b[K     |██████████████████████████▊     | 1.4MB 11.2MB/s eta 0:00:01\r\u001b[K     |███████████████████████████     | 1.4MB 11.2MB/s eta 0:00:01\r\u001b[K     |███████████████████████████▏    | 1.4MB 11.2MB/s eta 0:00:01\r\u001b[K     |███████████████████████████▍    | 1.4MB 11.2MB/s eta 0:00:01\r\u001b[K     |███████████████████████████▌    | 1.4MB 11.2MB/s eta 0:00:01\r\u001b[K     |███████████████████████████▊    | 1.4MB 11.2MB/s eta 0:00:01\r\u001b[K     |████████████████████████████    | 1.4MB 11.2MB/s eta 0:00:01\r\u001b[K     |████████████████████████████▏   | 1.4MB 11.2MB/s eta 0:00:01\r\u001b[K     |████████████████████████████▍   | 1.5MB 11.2MB/s eta 0:00:01\r\u001b[K     |████████████████████████████▌   | 1.5MB 11.2MB/s eta 0:00:01\r\u001b[K     |████████████████████████████▊   | 1.5MB 11.2MB/s eta 0:00:01\r\u001b[K     |█████████████████████████████   | 1.5MB 11.2MB/s eta 0:00:01\r\u001b[K     |█████████████████████████████▏  | 1.5MB 11.2MB/s eta 0:00:01\r\u001b[K     |█████████████████████████████▍  | 1.5MB 11.2MB/s eta 0:00:01\r\u001b[K     |█████████████████████████████▌  | 1.5MB 11.2MB/s eta 0:00:01\r\u001b[K     |█████████████████████████████▊  | 1.5MB 11.2MB/s eta 0:00:01\r\u001b[K     |██████████████████████████████  | 1.5MB 11.2MB/s eta 0:00:01\r\u001b[K     |██████████████████████████████▏ | 1.5MB 11.2MB/s eta 0:00:01\r\u001b[K     |██████████████████████████████▍ | 1.6MB 11.2MB/s eta 0:00:01\r\u001b[K     |██████████████████████████████▌ | 1.6MB 11.2MB/s eta 0:00:01\r\u001b[K     |██████████████████████████████▊ | 1.6MB 11.2MB/s eta 0:00:01\r\u001b[K     |███████████████████████████████ | 1.6MB 11.2MB/s eta 0:00:01\r\u001b[K     |███████████████████████████████▏| 1.6MB 11.2MB/s eta 0:00:01\r\u001b[K     |███████████████████████████████▍| 1.6MB 11.2MB/s eta 0:00:01\r\u001b[K     |███████████████████████████████▌| 1.6MB 11.2MB/s eta 0:00:01\r\u001b[K     |███████████████████████████████▊| 1.6MB 11.2MB/s eta 0:00:01\r\u001b[K     |████████████████████████████████| 1.6MB 11.2MB/s eta 0:00:01\r\u001b[K     |████████████████████████████████| 1.6MB 11.2MB/s \n",
            "\u001b[?25hBuilding wheels for collected packages: pyfpgrowth\n",
            "  Building wheel for pyfpgrowth (setup.py) ... \u001b[?25l\u001b[?25hdone\n",
            "  Created wheel for pyfpgrowth: filename=pyfpgrowth-1.0-py2.py3-none-any.whl size=5479 sha256=0c9ef4380120e6cb294c7e5b0c0a6ba9544237c79e1d64b6c320604b247f5cf6\n",
            "  Stored in directory: /root/.cache/pip/wheels/3b/3f/0d/a04bb8b17887c1eca7d0f1a48d4aa0c09c96eb221ff7fa56c1\n",
            "Successfully built pyfpgrowth\n",
            "Installing collected packages: pyfpgrowth\n",
            "Successfully installed pyfpgrowth-1.0\n"
          ],
          "name": "stdout"
        }
      ]
    },
    {
      "cell_type": "code",
      "metadata": {
        "id": "UyAku9gAROrs"
      },
      "source": [
        "import pyfpgrowth"
      ],
      "execution_count": 23,
      "outputs": []
    },
    {
      "cell_type": "code",
      "metadata": {
        "id": "95wL116LWjHA",
        "colab": {
          "base_uri": "https://localhost:8080/"
        },
        "outputId": "ebdf6619-e789-4127-f90f-099948fd4243"
      },
      "source": [
        "transactions = userRiwayat\n",
        "sup = 0.003  # float(input(\"Enter support %: \"))\n",
        "patterns = pyfpgrowth.find_frequent_patterns(transactions, int(len(transactions) * sup))\n",
        "print(len(patterns))\n",
        "rules = pyfpgrowth.generate_association_rules(patterns, 0.2)\n",
        "print(rules)\n",
        "print(len(rules))"
      ],
      "execution_count": 24,
      "outputs": [
        {
          "output_type": "stream",
          "text": [
            "1042\n",
            "{('Star Wars: Episode I - The Phantom Menace',): (('Avatar',), 1.0), ('Star Wars: Episode III - Revenge of the Sith',): (('Avatar',), 0.6), ('Osmosis Jones',): (('Rise of the Planet of the Apes',), 0.2727272727272727), ('Rise of the Planet of the Apes',): (('Osmosis Jones',), 0.5), (\"Harry Potter and the Sorcerer's Stone\",): (('The Fifth Element',), 0.5), ('The Fifth Element',): ((\"Harry Potter and the Sorcerer's Stone\",), 0.21428571428571427), (\"All the King's Men\",): (('The Adventures of Tintin',), 0.5), ('The Adventures of Tintin',): ((\"All the King's Men\",), 0.21428571428571427), ('Exorcist: The Beginning',): (('Fury',), 0.42857142857142855), ('Gigli',): (('Invictus',), 0.42857142857142855), ('Invictus',): ((\"The Sorcerer's Apprentice\",), 0.23076923076923078), ('Star Wars: Episode II - Attack of the Clones',): (('Avatar',), 0.875), ('How to Train Your Dragon',): (('The Legend of Tarzan',), 0.375), ('Death Becomes Her',): (('The Ridiculous 6',), 0.2727272727272727), ('The Ridiculous 6',): (('Death Becomes Her',), 0.375), ('American Gangster',): (('Kangaroo Jack',), 0.375), ('Kangaroo Jack',): ((\"Ocean's Eleven\",), 0.2727272727272727), ('Shrek',): (('The Chronicles of Narnia: The Voyage of the Dawn Treader',), 0.375), ('The Chronicles of Narnia: The Voyage of the Dawn Treader',): (('Shrek',), 0.25), ('Deep Impact',): (('Godzilla Resurgence',), 0.375), ('The Black Dahlia',): (('Tomorrow Never Dies',), 0.375), ('Tomorrow Never Dies',): (('Avatar',), 0.3333333333333333), ('The Girl with the Dragon Tattoo',): (('Stepmom',), 0.3333333333333333), ('Braveheart',): (('G.I. Jane',), 0.3), ('G.I. Jane',): (('Braveheart',), 0.3333333333333333), ('Ronin',): (('Top Cat Begins',), 0.3333333333333333), ('Top Cat Begins',): (('Hercules',), 0.23076923076923078), ('Starsky & Hutch',): (('Avatar',), 0.3333333333333333), ('Monkeybone',): ((\"You Don't Mess with the Zohan\",), 0.3), (\"You Don't Mess with the Zohan\",): (('Monkeybone',), 0.3333333333333333), ('Eye See You',): (('Avatar',), 0.2), ('The Wolf of Wall Street',): (('Eye See You',), 0.3), ('Payback',): (('The Equalizer',), 0.3), ('The Equalizer',): (('Payback',), 0.2), ('Funny People',): (('Avatar',), 0.3), ('Zathura: A Space Adventure',): (('Avatar',), 0.3), ('Disclosure',): (('Holy Man',), 0.2), ('Holy Man',): (('Disclosure',), 0.3), ('The Hobbit: An Unexpected Journey',): (('The Last Witch Hunter',), 0.23076923076923078), ('The Last Witch Hunter',): (('The Hobbit: An Unexpected Journey',), 0.3), ('The Amazing Spider-Man 2',): (('Avatar',), 1.0), ('Nine',): (('Pan',), 0.3), ('On Deadly Ground',): (('Godzilla Resurgence',), 0.3), ('The League of Extraordinary Gentlemen',): (('Avatar',), 1.1), ('Dreamgirls',): (('Abraham Lincoln: Vampire Hunter',), 0.2727272727272727), ('Astro Boy',): (('Fantastic Four',), 0.2727272727272727), (\"Ocean's Eleven\",): (('Kangaroo Jack',), 0.23076923076923078), ('Warcraft',): (('Fantastic Four',), 0.2727272727272727), ('Treasure Planet',): (('Hercules',), 0.2727272727272727), ('The Fan',): (('Thirteen Days',), 0.23076923076923078), ('Thirteen Days',): (('The Fan',), 0.2727272727272727), ('G.I. Joe: Retaliation',): (('World War Z',), 0.23076923076923078), ('World War Z',): (('G.I. Joe: Retaliation',), 0.2727272727272727), ('The Flintstones in Viva Rock Vegas',): (('Pan',), 0.2727272727272727), ('Man of Steel',): (('Avatar',), 1.0), ('Casino Royale',): (('Pirates of the Caribbean: On Stranger Tides',), 0.23076923076923078), ('Pirates of the Caribbean: On Stranger Tides',): (('Casino Royale',), 0.2727272727272727), ('A Civil Action',): (('Xi you ji zhi: Sun Wukong san da Baigu Jing',), 0.25), ('Xi you ji zhi: Sun Wukong san da Baigu Jing',): (('A Civil Action',), 0.2), ('Kingdom of Heaven',): (('Stuart Little 2',), 0.25), ('Stuart Little 2',): (('The Lego Movie',), 0.23076923076923078), ('End of Days',): (('Avatar',), 1.0), ('Into the Storm',): (('Avatar',), 0.25), ('Toy Story 2',): (('Stuart Little 2',), 0.25), ('Reign of Fire',): (('Six Days Seven Nights',), 0.25), ('Six Days Seven Nights',): (('Reign of Fire',), 0.23076923076923078), (\"The Sorcerer's Apprentice\",): (('Invictus',), 0.25), ('The Hobbit: The Desolation of Smaug',): (('Avatar',), 0.25), ('The Tuxedo',): (('Avatar',), 0.23076923076923078), ('Madagascar',): (('Godzilla Resurgence',), 0.21428571428571427), ('Deck the Halls',): (('Stepmom',), 0.21428571428571427), ('The Patriot',): (('Gone in Sixty Seconds',), 0.2)}\n",
            "72\n"
          ],
          "name": "stdout"
        }
      ]
    },
    {
      "cell_type": "code",
      "metadata": {
        "id": "N7BwdtAyW7hc",
        "colab": {
          "base_uri": "https://localhost:8080/",
          "height": 406
        },
        "outputId": "d6c28c62-ded5-42be-a929-7e23a386c2ab"
      },
      "source": [
        "rekomendasi=[]\n",
        "for x,y in rules.items():\n",
        "  rekom=[]\n",
        "  rekom.append(x)\n",
        "  rekom.append(y[0])\n",
        "  rekom.append(y[1])\n",
        "\n",
        "  rekomendasi.append(rekom)\n",
        "  rules_df=pd.DataFrame(rekomendasi,columns=['Movie','Rekomendasi','Confidence'])\n",
        "rules_df"
      ],
      "execution_count": 25,
      "outputs": [
        {
          "output_type": "execute_result",
          "data": {
            "text/html": [
              "<div>\n",
              "<style scoped>\n",
              "    .dataframe tbody tr th:only-of-type {\n",
              "        vertical-align: middle;\n",
              "    }\n",
              "\n",
              "    .dataframe tbody tr th {\n",
              "        vertical-align: top;\n",
              "    }\n",
              "\n",
              "    .dataframe thead th {\n",
              "        text-align: right;\n",
              "    }\n",
              "</style>\n",
              "<table border=\"1\" class=\"dataframe\">\n",
              "  <thead>\n",
              "    <tr style=\"text-align: right;\">\n",
              "      <th></th>\n",
              "      <th>Movie</th>\n",
              "      <th>Rekomendasi</th>\n",
              "      <th>Confidence</th>\n",
              "    </tr>\n",
              "  </thead>\n",
              "  <tbody>\n",
              "    <tr>\n",
              "      <th>0</th>\n",
              "      <td>(Star Wars: Episode I - The Phantom Menace,)</td>\n",
              "      <td>(Avatar,)</td>\n",
              "      <td>1.000000</td>\n",
              "    </tr>\n",
              "    <tr>\n",
              "      <th>1</th>\n",
              "      <td>(Star Wars: Episode III - Revenge of the Sith,)</td>\n",
              "      <td>(Avatar,)</td>\n",
              "      <td>0.600000</td>\n",
              "    </tr>\n",
              "    <tr>\n",
              "      <th>2</th>\n",
              "      <td>(Osmosis Jones,)</td>\n",
              "      <td>(Rise of the Planet of the Apes,)</td>\n",
              "      <td>0.272727</td>\n",
              "    </tr>\n",
              "    <tr>\n",
              "      <th>3</th>\n",
              "      <td>(Rise of the Planet of the Apes,)</td>\n",
              "      <td>(Osmosis Jones,)</td>\n",
              "      <td>0.500000</td>\n",
              "    </tr>\n",
              "    <tr>\n",
              "      <th>4</th>\n",
              "      <td>(Harry Potter and the Sorcerer's Stone,)</td>\n",
              "      <td>(The Fifth Element,)</td>\n",
              "      <td>0.500000</td>\n",
              "    </tr>\n",
              "    <tr>\n",
              "      <th>...</th>\n",
              "      <td>...</td>\n",
              "      <td>...</td>\n",
              "      <td>...</td>\n",
              "    </tr>\n",
              "    <tr>\n",
              "      <th>67</th>\n",
              "      <td>(The Hobbit: The Desolation of Smaug,)</td>\n",
              "      <td>(Avatar,)</td>\n",
              "      <td>0.250000</td>\n",
              "    </tr>\n",
              "    <tr>\n",
              "      <th>68</th>\n",
              "      <td>(The Tuxedo,)</td>\n",
              "      <td>(Avatar,)</td>\n",
              "      <td>0.230769</td>\n",
              "    </tr>\n",
              "    <tr>\n",
              "      <th>69</th>\n",
              "      <td>(Madagascar,)</td>\n",
              "      <td>(Godzilla Resurgence,)</td>\n",
              "      <td>0.214286</td>\n",
              "    </tr>\n",
              "    <tr>\n",
              "      <th>70</th>\n",
              "      <td>(Deck the Halls,)</td>\n",
              "      <td>(Stepmom,)</td>\n",
              "      <td>0.214286</td>\n",
              "    </tr>\n",
              "    <tr>\n",
              "      <th>71</th>\n",
              "      <td>(The Patriot,)</td>\n",
              "      <td>(Gone in Sixty Seconds,)</td>\n",
              "      <td>0.200000</td>\n",
              "    </tr>\n",
              "  </tbody>\n",
              "</table>\n",
              "<p>72 rows × 3 columns</p>\n",
              "</div>"
            ],
            "text/plain": [
              "                                              Movie  ... Confidence\n",
              "0      (Star Wars: Episode I - The Phantom Menace,)  ...   1.000000\n",
              "1   (Star Wars: Episode III - Revenge of the Sith,)  ...   0.600000\n",
              "2                                  (Osmosis Jones,)  ...   0.272727\n",
              "3                 (Rise of the Planet of the Apes,)  ...   0.500000\n",
              "4          (Harry Potter and the Sorcerer's Stone,)  ...   0.500000\n",
              "..                                              ...  ...        ...\n",
              "67           (The Hobbit: The Desolation of Smaug,)  ...   0.250000\n",
              "68                                    (The Tuxedo,)  ...   0.230769\n",
              "69                                    (Madagascar,)  ...   0.214286\n",
              "70                                (Deck the Halls,)  ...   0.214286\n",
              "71                                   (The Patriot,)  ...   0.200000\n",
              "\n",
              "[72 rows x 3 columns]"
            ]
          },
          "metadata": {
            "tags": []
          },
          "execution_count": 25
        }
      ]
    },
    {
      "cell_type": "code",
      "metadata": {
        "id": "yFTcvzJnKYX_"
      },
      "source": [
        "df=pd.DataFrame(userRiwayat)\n",
        "df['Items'] = df[df.columns[:]].apply(\n",
        "    lambda x: ','.join(x.dropna().astype(str)),\n",
        "    axis=1\n",
        ")\n",
        "df.drop(df.columns[0:6],axis=1)\n",
        "\n",
        "def support_count(sup):  \n",
        "    count=0\n",
        "    sup1=set(str(sup))\n",
        "    sup1.remove(\"'\")\n",
        "    sup1.remove('(')\n",
        "    sup1.remove(')')\n",
        "    sup1.discard(' ')\n",
        "    for j in df['Items']:\n",
        "        j=set(j)\n",
        "        if(sup1.issubset(j)):\n",
        "            count=count+1\n",
        "    return count\n",
        "support=[]\n",
        "for i in rules_df['Rekomendasi']:\n",
        "    a=support_count(i)\n",
        "    support.append(a/len(df))\n",
        "rules_df['support']=support"
      ],
      "execution_count": 26,
      "outputs": []
    },
    {
      "cell_type": "code",
      "metadata": {
        "id": "GlK89y9KLYj5"
      },
      "source": [
        "rules_df['lift']=rules_df['Confidence']/rules_df['support']"
      ],
      "execution_count": 27,
      "outputs": []
    },
    {
      "cell_type": "code",
      "metadata": {
        "colab": {
          "base_uri": "https://localhost:8080/",
          "height": 406
        },
        "id": "tZoxiZYXLcdO",
        "outputId": "563ac408-fdbc-4c82-e05b-75d02e995f6f"
      },
      "source": [
        "rules_df[(rules_df['lift'] >= 1.2) &\n",
        "(rules_df['Confidence'] >= 0.8) & (rules_df['Confidence'] >=0.3)]\n",
        "rules_df"
      ],
      "execution_count": 30,
      "outputs": [
        {
          "output_type": "execute_result",
          "data": {
            "text/html": [
              "<div>\n",
              "<style scoped>\n",
              "    .dataframe tbody tr th:only-of-type {\n",
              "        vertical-align: middle;\n",
              "    }\n",
              "\n",
              "    .dataframe tbody tr th {\n",
              "        vertical-align: top;\n",
              "    }\n",
              "\n",
              "    .dataframe thead th {\n",
              "        text-align: right;\n",
              "    }\n",
              "</style>\n",
              "<table border=\"1\" class=\"dataframe\">\n",
              "  <thead>\n",
              "    <tr style=\"text-align: right;\">\n",
              "      <th></th>\n",
              "      <th>Movie</th>\n",
              "      <th>Rekomendasi</th>\n",
              "      <th>Confidence</th>\n",
              "      <th>support</th>\n",
              "      <th>lift</th>\n",
              "    </tr>\n",
              "  </thead>\n",
              "  <tbody>\n",
              "    <tr>\n",
              "      <th>0</th>\n",
              "      <td>(Star Wars: Episode I - The Phantom Menace,)</td>\n",
              "      <td>(Avatar,)</td>\n",
              "      <td>1.000000</td>\n",
              "      <td>0.509</td>\n",
              "      <td>1.964637</td>\n",
              "    </tr>\n",
              "    <tr>\n",
              "      <th>1</th>\n",
              "      <td>(Star Wars: Episode III - Revenge of the Sith,)</td>\n",
              "      <td>(Avatar,)</td>\n",
              "      <td>0.600000</td>\n",
              "      <td>0.509</td>\n",
              "      <td>1.178782</td>\n",
              "    </tr>\n",
              "    <tr>\n",
              "      <th>2</th>\n",
              "      <td>(Osmosis Jones,)</td>\n",
              "      <td>(Rise of the Planet of the Apes,)</td>\n",
              "      <td>0.272727</td>\n",
              "      <td>0.188</td>\n",
              "      <td>1.450677</td>\n",
              "    </tr>\n",
              "    <tr>\n",
              "      <th>3</th>\n",
              "      <td>(Rise of the Planet of the Apes,)</td>\n",
              "      <td>(Osmosis Jones,)</td>\n",
              "      <td>0.500000</td>\n",
              "      <td>0.076</td>\n",
              "      <td>6.578947</td>\n",
              "    </tr>\n",
              "    <tr>\n",
              "      <th>4</th>\n",
              "      <td>(Harry Potter and the Sorcerer's Stone,)</td>\n",
              "      <td>(The Fifth Element,)</td>\n",
              "      <td>0.500000</td>\n",
              "      <td>0.200</td>\n",
              "      <td>2.500000</td>\n",
              "    </tr>\n",
              "    <tr>\n",
              "      <th>...</th>\n",
              "      <td>...</td>\n",
              "      <td>...</td>\n",
              "      <td>...</td>\n",
              "      <td>...</td>\n",
              "      <td>...</td>\n",
              "    </tr>\n",
              "    <tr>\n",
              "      <th>67</th>\n",
              "      <td>(The Hobbit: The Desolation of Smaug,)</td>\n",
              "      <td>(Avatar,)</td>\n",
              "      <td>0.250000</td>\n",
              "      <td>0.509</td>\n",
              "      <td>0.491159</td>\n",
              "    </tr>\n",
              "    <tr>\n",
              "      <th>68</th>\n",
              "      <td>(The Tuxedo,)</td>\n",
              "      <td>(Avatar,)</td>\n",
              "      <td>0.230769</td>\n",
              "      <td>0.509</td>\n",
              "      <td>0.453378</td>\n",
              "    </tr>\n",
              "    <tr>\n",
              "      <th>69</th>\n",
              "      <td>(Madagascar,)</td>\n",
              "      <td>(Godzilla Resurgence,)</td>\n",
              "      <td>0.214286</td>\n",
              "      <td>0.056</td>\n",
              "      <td>3.826531</td>\n",
              "    </tr>\n",
              "    <tr>\n",
              "      <th>70</th>\n",
              "      <td>(Deck the Halls,)</td>\n",
              "      <td>(Stepmom,)</td>\n",
              "      <td>0.214286</td>\n",
              "      <td>0.595</td>\n",
              "      <td>0.360144</td>\n",
              "    </tr>\n",
              "    <tr>\n",
              "      <th>71</th>\n",
              "      <td>(The Patriot,)</td>\n",
              "      <td>(Gone in Sixty Seconds,)</td>\n",
              "      <td>0.200000</td>\n",
              "      <td>0.120</td>\n",
              "      <td>1.666667</td>\n",
              "    </tr>\n",
              "  </tbody>\n",
              "</table>\n",
              "<p>72 rows × 5 columns</p>\n",
              "</div>"
            ],
            "text/plain": [
              "                                              Movie  ...      lift\n",
              "0      (Star Wars: Episode I - The Phantom Menace,)  ...  1.964637\n",
              "1   (Star Wars: Episode III - Revenge of the Sith,)  ...  1.178782\n",
              "2                                  (Osmosis Jones,)  ...  1.450677\n",
              "3                 (Rise of the Planet of the Apes,)  ...  6.578947\n",
              "4          (Harry Potter and the Sorcerer's Stone,)  ...  2.500000\n",
              "..                                              ...  ...       ...\n",
              "67           (The Hobbit: The Desolation of Smaug,)  ...  0.491159\n",
              "68                                    (The Tuxedo,)  ...  0.453378\n",
              "69                                    (Madagascar,)  ...  3.826531\n",
              "70                                (Deck the Halls,)  ...  0.360144\n",
              "71                                   (The Patriot,)  ...  1.666667\n",
              "\n",
              "[72 rows x 5 columns]"
            ]
          },
          "metadata": {
            "tags": []
          },
          "execution_count": 30
        }
      ]
    },
    {
      "cell_type": "code",
      "metadata": {
        "id": "68imIg0PAhWB"
      },
      "source": [
        "rules_df.to_csv('FPGROWTH')"
      ],
      "execution_count": 29,
      "outputs": []
    }
  ]
}